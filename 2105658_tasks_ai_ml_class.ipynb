{
 "cells": [
  {
   "cell_type": "code",
   "execution_count": null,
   "id": "995b279d",
   "metadata": {},
   "outputs": [],
   "source": [
    "#day1\n",
    "\n",
    "1.List Some Mega Projects hosted in Python\n",
    "Database Projects: Management Systems (Library, Hotel, Hospital, School)\n",
    "ML Projects: Classification\n",
    "AI Projects: Chatbots, face detection and recognition, speech recognition, Security\n",
    "Data Science Projects: Global Terrorism Analysis, Call Data Record Analysis\n",
    "\n",
    "2.List Python Libraries Used in Different IT Domains\n",
    "\n",
    "Pandas, numpy, matplotlib, tkinter, sklearn, tensorflow"
   ]
  },
  {
   "cell_type": "code",
   "execution_count": 6,
   "id": "1a3c9405",
   "metadata": {},
   "outputs": [
    {
     "name": "stdout",
     "output_type": "stream",
     "text": [
      "Hello WOrld\n",
      "sum is:  50\n"
     ]
    }
   ],
   "source": [
    "#day1\n",
    "#task 4\n",
    "print(\"Hello WOrld\")\n",
    "a=45\n",
    "b=5\n",
    "c=a+b\n",
    "print(\"sum is: \",c)"
   ]
  },
  {
   "cell_type": "code",
   "execution_count": null,
   "id": "693b4afd",
   "metadata": {},
   "outputs": [],
   "source": [
    "#Day 2\n",
    "2.Use Jupyter Notebook to execute following code, try to guess what is happening in this code\n",
    "\n",
    "It is used to plot a graph showing the height distribution of various people.\n",
    "\n",
    "4.Write Down difference between interpreter and compiler\n",
    "\n",
    "Compiler checks the program as a whole and searches for errors. After no error is detected it generates an executable byte code file which on executing gives us the output.\n",
    "\n",
    "Interpreter checks the entire code line by line. So if a line contains error it stops executing. It is slower than compiler.\n",
    "\n",
    "5.What is Data Structure, why we need one in programs?\n",
    "\n",
    "Data structure explains how data is going to organized in computer memory, and what will be the cost performing different operations like traversing, insertion, deletion, searching and sorting on that data."
   ]
  },
  {
   "cell_type": "code",
   "execution_count": null,
   "id": "ec2cea48",
   "metadata": {},
   "outputs": [],
   "source": [
    "#Day 3\n",
    "1.What are Data Structures? List some of data structures and their use in real world application?\n",
    "\n",
    "Data type explains how data is going to organised in computer memory, and what will be the cost of performing different operations like traversing, insertion, deletion, searching and sorting on that data. Ex - integer, float, string, list, dictionary, set, boolean.\n",
    "\n",
    "Lists, dictionary are used in management systems."
   ]
  },
  {
   "cell_type": "code",
   "execution_count": null,
   "id": "2c841682",
   "metadata": {},
   "outputs": [],
   "source": [
    "#day3\n",
    "\n",
    "4. What is difference between ordered data type and unordered data type?\n",
    "\n",
    "\tOrdered data types are sequential data types on which we can use indexing and slicing. Ex - list, tuple.\n",
    "\t\n",
    "\tUnordered data types are non sequential and we can’t use indexing or slicing on them. Ex - set, dictionary.\n",
    "    \n",
    "    \n",
    "5.Write down types of each value given? (in python)\n",
    "\n",
    " a. 100 - integer\n",
    " b. 105.5 - float\n",
    " c. 192.56j - complex\n",
    " d. 10+6j - complex\n",
    " e. ‘10’ - string\n",
    " f. ‘hello world’ - string\n",
    " g. [10, 20, 50, 100] - list\n",
    " h. { ‘name’: ‘sachin’, ‘age’: 24, ‘language’: ‘python’ } - dictionary"
   ]
  },
  {
   "cell_type": "code",
   "execution_count": 13,
   "id": "69d1ec13",
   "metadata": {},
   "outputs": [
    {
     "name": "stdout",
     "output_type": "stream",
     "text": [
      "['ritos', 'saptarshi', 'ayush', 'priyanshu', 'sahil']\n",
      "['ayush', 'priyanshu', 'ritos', 'sahil', 'saptarshi']\n",
      "['saptarshi', 'sahil', 'ritos', 'priyanshu', 'ayush']\n",
      "['saptarshi', 'sahil', 'ritos', 'priyanshu', 'ayush', 'aditya']\n",
      "['aniket', 'saptarshi', 'sahil', 'ritos', 'priyanshu', 'ayush', 'aditya']\n",
      "['aniket', 'saptarshi', 'sahil', 'ritos', 'priyanshu', 'ayush']\n",
      "['saptarshi', 'sahil', 'ritos', 'priyanshu', 'ayush']\n"
     ]
    }
   ],
   "source": [
    "#day 3\n",
    "#task 3\n",
    "list=[\"ritos\",\"saptarshi\",\"ayush\",\"priyanshu\",\"sahil\"]\n",
    "print(list)\n",
    "list.sort()\n",
    "print(list)\n",
    "list.reverse()\n",
    "print(list)\n",
    "list.append(\"aditya\")\n",
    "print(list)\n",
    "list.insert(0,\"aniket\")\n",
    "print(list)\n",
    "list.pop()\n",
    "print(list)\n",
    "list.remove(\"aniket\")\n",
    "print(list)"
   ]
  },
  {
   "cell_type": "code",
   "execution_count": 22,
   "id": "028cec5b",
   "metadata": {},
   "outputs": [
    {
     "name": "stdout",
     "output_type": "stream",
     "text": [
      "<class 'int'>\n",
      "<class 'float'>\n",
      "<class 'complex'>\n",
      "<class 'complex'>\n",
      "<class 'str'>\n",
      "<class 'str'>\n",
      "<class 'list'>\n",
      "<class 'dict'>\n"
     ]
    }
   ],
   "source": [
    "#day 3, task 5\n",
    "print(type(100))\n",
    "print(type(105.5))\n",
    "print(type(192.56j))\n",
    "print(type(10+6j))\n",
    "print(type('10'))\n",
    "print(type('hello world5'))\n",
    "print(type([10,20,50,100]))\n",
    "print(type({'name':'sachin','age':24,'language':'python'}))"
   ]
  },
  {
   "cell_type": "code",
   "execution_count": 47,
   "id": "06fef535",
   "metadata": {},
   "outputs": [
    {
     "name": "stdout",
     "output_type": "stream",
     "text": [
      "......day 4, task 1.......\n",
      "\n",
      "Saptarshi is great!\n",
      "['Saptarshi', 'is', 'great!']\n",
      "Saptarshi is great\n",
      "Saptarshi is amazing!\n",
      "Saptarshi is great!\n",
      "Saptarshi Is Great!\n",
      "\n",
      "......day 4, task 2.......\n",
      "\n",
      "the list is [1, 2, 3, 4, 5]\n",
      "[1, 2, 3, 4, 5]\n",
      "[5, 4, 3, 2, 1]\n",
      "[5, 4, 3, 2, 1, 0]\n",
      "[6, 5, 4, 3, 2, 1, 0]\n",
      "[6, 5, 4, 3, 2, 1]\n",
      "[5, 4, 3, 2, 1]\n",
      "\n",
      "......day 4, task 3.......\n",
      "\n",
      "The Games list contain:  ['Football', 'cricket', 'Rugby', 'Kabaddi']\n",
      "The Electronics list contain:  ['Tv', 'Mobile', 'Speaker']\n",
      "The Language list contain:  ['Java', 'Python', 'C', 'C++']\n",
      "The Denomination list contain:  [10, 20, 50, 100, 200, 500]\n",
      "The Bike list contain:  ['ktm', 'honda', 'bajaj', 'hero']\n"
     ]
    }
   ],
   "source": [
    "#day 4, task 1\n",
    "print(\"......day 4, task 1.......\\n\")\n",
    "string =\"Saptarshi is great!\"\n",
    "print(string)\n",
    "print(string.split(\" \"))\n",
    "print(string.strip(\"!\"))\n",
    "print(string.replace(\"great\",\"amazing\"))\n",
    "print(string.center(5))\n",
    "print(string.title())\n",
    "\n",
    "print(\"\\n......day 4, task 2.......\\n\")\n",
    "list=[1,2,3,4,5]\n",
    "print(\"the list is\",list)\n",
    "list.sort()\n",
    "print(list)\n",
    "list.reverse()\n",
    "print(list)\n",
    "list.append(0)\n",
    "print(list)\n",
    "list.insert(0,6)\n",
    "print(list)\n",
    "list.pop()\n",
    "print(list)\n",
    "list.remove(6)\n",
    "print(list)\n",
    "\n",
    "print(\"\\n......day 4, task 3.......\\n\")\n",
    "games=[\"Football\",\"cricket\",\"Rugby\",\"Kabaddi\"]\n",
    "language=[\"Java\",\"Python\",\"C\",\"C++\"]\n",
    "electronics=[\"Tv\",\"Mobile\",\"Speaker\"]\n",
    "denominations=[10,20,50,100,200,500]\n",
    "bike=[\"ktm\",\"honda\",\"bajaj\",\"hero\"]\n",
    "print(\"The Games list contain: \",games)\n",
    "print(\"The Electronics list contain: \",electronics)\n",
    "print(\"The Language list contain: \",language)\n",
    "print(\"The Denomination list contain: \",denominations)\n",
    "print(\"The Bike list contain: \",bike)"
   ]
  },
  {
   "cell_type": "code",
   "execution_count": null,
   "id": "79dbdddd",
   "metadata": {},
   "outputs": [],
   "source": [
    "3.Create 5 real time list to store some useful information in python. Eg -> Language = [ ‘java’, ‘c’, ‘c++’, ‘ruby’ ]\n",
    "\n",
    " Language = [ ‘java’, ‘c’, ‘c++’, ‘ruby’ ]\n",
    " Subject = [‘physics’, ’chem’, ’math’, ’bio’]\n",
    " Stream = [‘CSE’, ‘IT’, ‘electrical’, ‘civil’] ...\n",
    "4.What is difference between mutable and immutable data types in python\n",
    "\n",
    " An object whose internal state can be changed is call mutable.\n",
    " Immutable data type doesn’t allow any change in the object once it has been created.\n",
    "5.What are identifiers, list rules of identifiers in python\n",
    "\n",
    " Identifiers are used to store an object of a data type class.\n",
    " Rules for identifiers are:-\n",
    " * an identifier should not be a keyword.\n",
    " * an identifier should not start with a number.\n",
    " * an identifier should not contain any special character except _."
   ]
  },
  {
   "cell_type": "code",
   "execution_count": null,
   "id": "20bf5577",
   "metadata": {},
   "outputs": [],
   "source": [
    "#day5\n",
    "\n",
    "1.What is difference between shallow copy and deep copy?\n",
    "\n",
    " New = nums.copy()\n",
    " New = copy.deepcopy(nums)\n",
    "\n",
    "3.This chapter introduced assignment statements, like spam = 10. What is the difference between an expression and a statement?\n",
    "\n",
    "Expression can be any combination of value, symbol, character. However when that expression is stored or assigned to someone it becomes a statement.\n",
    "\n",
    "4.Define following:- a. Atomic data types / Primary data types b. Secondary data type / User Defined Data Type A.These are the simplest form of data that cannot be broken down to any more simpler data. Ex - integer, boolean, float. B.These are made through a collection of atomic data types. Ex - list, string, set, dictionary.\n",
    "5.What is UDF?\n",
    "\n",
    "User Defined Function. A function that is made by the user and can be used by only him."
   ]
  },
  {
   "cell_type": "code",
   "execution_count": 54,
   "id": "6bc1ab06",
   "metadata": {},
   "outputs": [
    {
     "name": "stdout",
     "output_type": "stream",
     "text": [
      "\n",
      "......day 5, task 2.......\n",
      "\n",
      "Total books in library:  4\n",
      "Books by Author1:  ['book1', 'book2']\n"
     ]
    }
   ],
   "source": [
    "#day 5,task2\n",
    "\n",
    "print(\"\\n......day 5, task 2.......\\n\")\n",
    "Author1=[\"book1\",\"book2\"]\n",
    "Author2=[\"book abc\",\"book ltr\"]\n",
    "print(\"Total books in library: \",len(Author1)+len(Author2))\n",
    "print(\"Books by Author1: \",Author1)"
   ]
  },
  {
   "cell_type": "code",
   "execution_count": null,
   "id": "a9749e66",
   "metadata": {},
   "outputs": [],
   "source": [
    "#day6\n",
    "1.Write down 10 projects ideas you want to implement using python\n",
    "\n",
    "Tic tac toe game\n",
    "Library management system\n",
    "Song recommender system\n",
    "House price prediction\n",
    "Weather forecasting app\n",
    "Scientific calculator\n",
    "Snake game\n",
    "Bot (Reddit, Whatsapp)\n",
    "Sudoku\n",
    "Countdown clock and timer\n",
    "3.What is duck typing in python, what are Dunder or special methods?\n",
    "\n",
    " Duck typing is a concept related to dynamic typing, where the type or the class of an object is less important than the method it defines. Using duck typing, we do not check types at all. Instead we check for the presence of a given method or attribute.\n",
    "\n",
    " Methods that allow instances of a class to interact with the built-in functions and operators in python are called dunder methods. Ex -> __add__, __str__\n",
    "4.What are operators? How many types of operators are there in python?\n",
    "\n",
    " Operators are special symbols that designate that some sort of computation should be performed.\n",
    " There are 9 types of operators in python:-\n",
    " 1. Assignment \n",
    " 2. Relational\n",
    " 3. Logical\n",
    " 4. Arithmetic\n",
    " 5. Membership\n",
    " 6. Identity\n",
    " 7. Bitwise\n",
    " 8. Shift \n",
    " 9. Unary"
   ]
  },
  {
   "cell_type": "code",
   "execution_count": 62,
   "id": "a03c7b19",
   "metadata": {},
   "outputs": [
    {
     "name": "stdout",
     "output_type": "stream",
     "text": [
      "\n",
      "......day 6, task 2.......\n",
      "\n",
      "['Football', 'cricket', 'Rugby', 'Kabaddi']\n",
      "Popular sport where people chase a single ball with their foot\n",
      "Two teams try to hit a ball with a bat\n"
     ]
    }
   ],
   "source": [
    "#day 6,task2\n",
    "\n",
    "print(\"\\n......day 6, task 2.......\\n\")\n",
    "class xyz:\n",
    "    games=[\"Football\",\"cricket\",\"Rugby\",\"Kabaddi\"]\n",
    "    games_mean={\n",
    "        \"Football\":\"Popular sport where people chase a single ball with their foot\"\n",
    "           , \"cricket\":\"Two teams try to hit a ball with a bat\"  \n",
    "    }\n",
    "obj=xyz\n",
    "print(obj.games)\n",
    "print(obj.games_mean[\"Football\"])\n",
    "print(obj.games_mean[\"cricket\"])"
   ]
  },
  {
   "cell_type": "code",
   "execution_count": null,
   "id": "ba9e543d",
   "metadata": {},
   "outputs": [],
   "source": [
    "#day8\n",
    "\n",
    "1.What are the two values of the Boolean data type? How do you write them?\n",
    "\n",
    " True/False\n",
    "2.What are the three Boolean operators?\n",
    "\n",
    " And, Or, Not\n",
    "3.Write out the truth tables of each Boolean operator (that is, every possible combination of Boolean values for the operator and what they evaluate to).\n",
    "\n",
    " And : T/T -> T, T/F -> F, F/T -> F, F/F -> F\n",
    " Or : T/T -> T, T/F -> T, F/T -> T, F/F -> F\n",
    " Not : T -> F, F -> T\n",
    "\n",
    "5.What are the six comparison operators?\n",
    "\n",
    " >, <, >=, <=, !=, ==\n",
    "6.What is the difference between the equal to operator and the assignment operator?\n",
    "\n",
    " = :- used to assign a value to an identifier. Does not return a value.\n",
    " == :- used to check whether 2 identifiers have same value. Returns boolean value.\n",
    "7.Explain what a condition is and where you would use one.\n",
    "\n",
    "Condition is a statement where we check whether certain criteria is fulfilled or not. We can use it to check whether a number is odd or even in if - elif - else."
   ]
  },
  {
   "cell_type": "code",
   "execution_count": 70,
   "id": "4dec2f04",
   "metadata": {},
   "outputs": [
    {
     "name": "stdout",
     "output_type": "stream",
     "text": [
      "\n",
      "......day 8, task 4.......\n",
      "\n",
      "False\n",
      "False\n",
      "True\n",
      "False\n",
      "False\n",
      "True\n"
     ]
    }
   ],
   "source": [
    "#day 8,task4\n",
    "\n",
    "print(\"\\n......day 8, task 4.......\\n\")\n",
    "\n",
    "print((5>4)and(3==5))\n",
    "print((not(5>4)))\n",
    "print((5>4)or(3==5))\n",
    "print((not((5>4)or(3==5))))\n",
    "print((True and True) and (True ==False))\n",
    "print((not False)or(not True))"
   ]
  },
  {
   "cell_type": "code",
   "execution_count": 71,
   "id": "a06b560b",
   "metadata": {},
   "outputs": [
    {
     "name": "stdout",
     "output_type": "stream",
     "text": [
      "\n",
      "......day 9, task 1.......\n",
      "\n",
      "Enter a number: 5\n",
      "It is positive\n"
     ]
    }
   ],
   "source": [
    "#day 9,task1\n",
    "\n",
    "print(\"\\n......day 9, task 1.......\\n\")\n",
    "a=input(\"Enter a number: \")\n",
    "a=int(a)\n",
    "if(a==0):\n",
    "    print(\"It is zero\")\n",
    "elif(a>0):\n",
    "    print(\"It is positive\")\n",
    "elif(a<0):\n",
    "    print(\"It is negative\")\n",
    "    \n"
   ]
  },
  {
   "cell_type": "code",
   "execution_count": 73,
   "id": "a42dd0d7",
   "metadata": {},
   "outputs": [
    {
     "name": "stdout",
     "output_type": "stream",
     "text": [
      "\n",
      "......day 9, task 2.......\n",
      "\n",
      "Enter a number: 22\n",
      "It is not divisible by 5 and 11\n"
     ]
    }
   ],
   "source": [
    "#day 9,task2\n",
    "\n",
    "print(\"\\n......day 9, task 2.......\\n\")\n",
    "\n",
    "a=input(\"Enter a number: \")\n",
    "a=int(a)\n",
    "if(a%5==0):\n",
    "    if(a%11==0):\n",
    "        print(\"It is divisible by both 5 & 11\")\n",
    "else:\n",
    "    print(\"It is not divisible by 5 and 11\")"
   ]
  },
  {
   "cell_type": "code",
   "execution_count": 74,
   "id": "47f735a1",
   "metadata": {},
   "outputs": [
    {
     "name": "stdout",
     "output_type": "stream",
     "text": [
      "\n",
      "......day 9, task 3.......\n",
      "\n",
      "Enter a year: 2003\n",
      "not a leap year\n"
     ]
    }
   ],
   "source": [
    "#day 9,task3\n",
    "\n",
    "print(\"\\n......day 9, task 3.......\\n\")\n",
    "\n",
    "year=input(\"Enter a year: \")\n",
    "year=int(year)\n",
    "if(year%400==0 and year%100==0):\n",
    "        print(\"It is leap year\")\n",
    "elif(year%4 and year%100==0):\n",
    "    print(\"It is a leap year\")\n",
    "else:\n",
    "    print(\"not a leap year\")"
   ]
  },
  {
   "cell_type": "code",
   "execution_count": 6,
   "id": "ac167da7",
   "metadata": {},
   "outputs": [
    {
     "name": "stdout",
     "output_type": "stream",
     "text": [
      "\n",
      "......day 9, task 4.......\n",
      "\n",
      "Enter a character: t\n",
      "It is an alphabet\n"
     ]
    }
   ],
   "source": [
    "#day 9,task4\n",
    "\n",
    "print(\"\\n......day 9, task 4.......\\n\")\n",
    "\n",
    "char=input(\"Enter a character: \")\n",
    "if(char>='a' and char<='z'):\n",
    "    print(\"It is an alphabet\")\n",
    "elif(char>='A' and char<='Z'):\n",
    "    print(\"It is an alphabet\")\n",
    "else:\n",
    "    print(\"It is not an alphabet\")"
   ]
  },
  {
   "cell_type": "code",
   "execution_count": 12,
   "id": "b6bcfa1c",
   "metadata": {},
   "outputs": [
    {
     "name": "stdout",
     "output_type": "stream",
     "text": [
      "\n",
      "......day 9, task 5.......\n",
      "\n",
      "Enter a character: t\n"
     ]
    }
   ],
   "source": [
    "#day 9,task5\n",
    "\n",
    "print(\"\\n......day 9, task 5.......\\n\")\n",
    "\n",
    "char=input(\"Enter a character: \")\n",
    "if(char>='a' and char<='z'):\n",
    "    if(char=='a' or char=='e' or char=='i' or char=='o' or char=='u'):\n",
    "        print(\"It is an vowel\")\n",
    "elif(char>='A' and char<='Z'):\n",
    "     if(char=='A' or char=='E' or char=='I' or char=='O' or char=='U'):\n",
    "        print(\"It is an vowel\")\n",
    "else:\n",
    "    print(\"It is a consonant\")\n",
    "    "
   ]
  },
  {
   "cell_type": "code",
   "execution_count": 23,
   "id": "c7f59a89",
   "metadata": {},
   "outputs": [
    {
     "name": "stdout",
     "output_type": "stream",
     "text": [
      "\n",
      "......day 9, task 6.......\n",
      "\n",
      "Enter a character: 5\n",
      "It is a digit\n"
     ]
    }
   ],
   "source": [
    "#day 9,task6\n",
    "\n",
    "print(\"\\n......day 9, task 6.......\\n\")\n",
    "\n",
    "char=input(\"Enter a character: \")\n",
    "if(char>='a' and char<='z'):\n",
    "    print(\"It is an alphabet\");\n",
    "elif(char>='A' and char<='Z'):\n",
    "    print(\"It is an alphabet\");\n",
    "\n",
    "elif (char.isdigit()==True):\n",
    "    print(\"It is a digit\")"
   ]
  },
  {
   "cell_type": "code",
   "execution_count": 24,
   "id": "f5ada9f2",
   "metadata": {},
   "outputs": [
    {
     "name": "stdout",
     "output_type": "stream",
     "text": [
      "\n",
      "......day 9, task 5.......\n",
      "\n",
      "Enter a character: A\n",
      "It is an upper case alphabet\n"
     ]
    }
   ],
   "source": [
    "#day 9,task7\n",
    "\n",
    "print(\"\\n......day 9, task 5.......\\n\")\n",
    "\n",
    "char=input(\"Enter a character: \")\n",
    "if(char>='a' and char<='z'):\n",
    "    print(\"It is an lower case alphabet\")\n",
    "elif(char>='A' and char<='Z'):\n",
    "    print(\"It is an upper case alphabet\")\n",
    "else:\n",
    "    print(\"It is not an alphabet\")"
   ]
  },
  {
   "cell_type": "code",
   "execution_count": 40,
   "id": "58ec36c0",
   "metadata": {},
   "outputs": [
    {
     "name": "stdout",
     "output_type": "stream",
     "text": [
      "Enter week number: 65\n",
      "Not a valid week number\n"
     ]
    }
   ],
   "source": [
    "#day 9,task8\n",
    "\n",
    "print(\"\\n......day 9, task8.......\\n\")\n",
    "week_num={\n",
    "    1:\"Monday\",\n",
    "    2:\"Tuesday\",\n",
    "    3:\"Wednesday\",\n",
    "    4:\"Thursday\",\n",
    "    5:\"Friday\",\n",
    "    6:\"Saturday\",\n",
    "    7:\"Sunday\"\n",
    "         }\n",
    "w=input(\"Enter week number: \")\n",
    "w=int(w)\n",
    "\n",
    "if(w>=1 and w<=7):\n",
    "    \n",
    "    print(\"The day is: \",week_num.get(w));\n",
    "\n",
    "else:\n",
    "    \n",
    "    print(\"Not a valid week number\")"
   ]
  },
  {
   "cell_type": "code",
   "execution_count": 44,
   "id": "af6717d8",
   "metadata": {},
   "outputs": [
    {
     "name": "stdout",
     "output_type": "stream",
     "text": [
      "\n",
      "......day 9, task9.......\n",
      "\n",
      "Enter a angle: 90\n",
      "Enter a angle: 45\n",
      "Enter a angle: 45\n",
      "It is a valid triangle\n"
     ]
    }
   ],
   "source": [
    "#day 9,task9\n",
    "\n",
    "print(\"\\n......day 9, task9.......\\n\")\n",
    "angle1=input(\"Enter a angle: \")\n",
    "angle2=input(\"Enter a angle: \")\n",
    "angle3=input(\"Enter a angle: \")\n",
    "a1=int(angle1)\n",
    "a2=int(angle2)\n",
    "a3=int(angle3)\n",
    "if((a1+a2+a3)==180):\n",
    "    if((a1+a2)>a3):\n",
    "        print(\"It is a valid triangle\")\n",
    "    elif((a2+a3)>a1):\n",
    "        print(\"It is a valid triangle\")\n",
    "    elif((a3+a1)>a2):\n",
    "        print(\"It is a valid triangle\")\n",
    "else:\n",
    "    print(\"It is not a valid triangle\")"
   ]
  },
  {
   "cell_type": "code",
   "execution_count": 49,
   "id": "c527f27e",
   "metadata": {},
   "outputs": [
    {
     "name": "stdout",
     "output_type": "stream",
     "text": [
      "\n",
      "......day 9, task10.......\n",
      "\n",
      "Enter a side: 0\n",
      "Enter a side: 0\n",
      "Enter a side: 1\n",
      "It is a valid triangle\n"
     ]
    }
   ],
   "source": [
    "#day 9,task10\n",
    "\n",
    "print(\"\\n......day 9, task10.......\\n\")\n",
    "side1=input(\"Enter a side: \")\n",
    "side2=input(\"Enter a side: \")\n",
    "side3=input(\"Enter a side: \")\n",
    "s1=int(side1)\n",
    "s2=int(side2)\n",
    "s3=int(side3)\n",
    "if((s1+s2)>s3):\n",
    "     print(\"It is a valid triangle\")\n",
    "elif((s2+s3)>s1):\n",
    "    print(\"It is a valid triangle\")\n",
    "elif((s3+s1)>s2):\n",
    "     print(\"It is a valid triangle\")\n",
    "else:\n",
    "    print(\"It is not a valid triangle\")"
   ]
  },
  {
   "cell_type": "code",
   "execution_count": 52,
   "id": "ebc146e4",
   "metadata": {},
   "outputs": [
    {
     "name": "stdout",
     "output_type": "stream",
     "text": [
      "\n",
      "......day 9, task11.......\n",
      "\n",
      "Enter a side: 4\n",
      "Enter a side: 3\n",
      "Enter a side: 2\n",
      "It is scalene triangle\n"
     ]
    }
   ],
   "source": [
    "#day 9,task11\n",
    "\n",
    "print(\"\\n......day 9, task11.......\\n\")\n",
    "side1=input(\"Enter a side: \")\n",
    "side2=input(\"Enter a side: \")\n",
    "side3=input(\"Enter a side: \")\n",
    "s1=int(side1)\n",
    "s2=int(side2)\n",
    "s3=int(side3)\n",
    "\n",
    "if(s1==s2 and s2==s3 and s3==s1):\n",
    "    print(\"It is equilateral\")\n",
    "elif((s1==s2 and s1!=s3) or (s2==s3 and s2!=s1) or (s3==s1 and s3!=s2)):\n",
    "    print(\"It is isosceles triangle\")\n",
    "elif(s1!=s2 and s2!=s3 and s3!=s1):\n",
    "    print(\"It is scalene triangle\")\n",
    "else:\n",
    "    print(\"Not a valid triangle\")"
   ]
  },
  {
   "cell_type": "code",
   "execution_count": 60,
   "id": "4a001637",
   "metadata": {},
   "outputs": [
    {
     "name": "stdout",
     "output_type": "stream",
     "text": [
      "\n",
      "......day 9, task12.......\n",
      "\n",
      "Enter marks out of 100\n",
      "\n",
      "Enter marks physics: 56\n",
      "Enter marks Chemistry: 99\n",
      "Enter marks Biology: 89\n",
      "Enter marks Mathematics: 67\n",
      "Enter marks Computer: 99\n",
      "Your percentage is:  82.0 %\n",
      "Your grade is: B\n"
     ]
    }
   ],
   "source": [
    "#day 9,task12\n",
    "\n",
    "print(\"\\n......day 9, task12.......\\n\")\n",
    "\n",
    "print(\"Enter marks out of 100\\n\")\n",
    "m1=input(\"Enter marks physics: \")\n",
    "m2=input(\"Enter marks Chemistry: \")\n",
    "m3=input(\"Enter marks Biology: \")\n",
    "m4=input(\"Enter marks Mathematics: \")\n",
    "m5=input(\"Enter marks Computer: \")\n",
    "\n",
    "m1=int(m1)\n",
    "m2=int(m2)\n",
    "m3=int(m3)\n",
    "m4=int(m4)\n",
    "m5=int(m5)\n",
    "\n",
    "percentage=((m1+m2+m3+m4+m5)/5)\n",
    "print(\"Your percentage is: \",percentage,\"%\")\n",
    "if(percentage>=90):\n",
    "    print(\"Your grade is: A\")\n",
    "elif(percentage>=80):\n",
    "    print(\"Your grade is: B\")\n",
    "elif(percentage>=70):\n",
    "    print(\"Your grade is: C\")\n",
    "elif(percentage>=60):\n",
    "    print(\"Your grade is: D\")\n",
    "elif(percentage>=40):\n",
    "    print(\"Your grade is: E\")\n",
    "elif(percentage<40):\n",
    "    print(\"Your grade is: F\")"
   ]
  },
  {
   "cell_type": "code",
   "execution_count": 4,
   "id": "0c4339ef",
   "metadata": {},
   "outputs": [
    {
     "name": "stdout",
     "output_type": "stream",
     "text": [
      "\n",
      "......day 9, task13.......\n",
      "\n",
      "Enter your basic salary: 464335\n",
      "Your Gross Salary is:  1044753.75\n"
     ]
    }
   ],
   "source": [
    "#day 9,task13\n",
    "\n",
    "print(\"\\n......day 9, task13.......\\n\")\n",
    "\n",
    "b_sal=input (\"Enter your basic salary: \")\n",
    "b_sal=int(b_sal)\n",
    "\n",
    "if(b_sal<=10000):\n",
    "    hra=0.2*b_sal\n",
    "    da=0.8*b_sal\n",
    "    g_sal=hra+da+b_sal\n",
    "    print(\"Your Gross Salary is: \",g_sal)\n",
    "elif(b_sal<=20000):\n",
    "    hra=0.25*b_sal\n",
    "    da=0.9*b_sal\n",
    "    g_sal=hra+da+b_sal\n",
    "    print(\"Your Gross Salary is: \",g_sal)\n",
    "elif(b_sal>20000):\n",
    "    hra=0.3*b_sal\n",
    "    da=0.95*b_sal\n",
    "    g_sal=hra+da+b_sal\n",
    "    print(\"Your Gross Salary is: \",g_sal)"
   ]
  },
  {
   "cell_type": "code",
   "execution_count": 7,
   "id": "ab7f80c4",
   "metadata": {},
   "outputs": [
    {
     "name": "stdout",
     "output_type": "stream",
     "text": [
      "\n",
      "......day 9, task14.......\n",
      "\n",
      "Enter your electricity units: 150\n",
      "Your bill is:  100.0\n"
     ]
    }
   ],
   "source": [
    "#day 9,task14\n",
    "\n",
    "print(\"\\n......day 9, task14.......\\n\")\n",
    "\n",
    "unit=input(\"Enter your electricity units: \")\n",
    "unit=int(unit)\n",
    "if(unit>50):\n",
    "    price=50*0.5\n",
    "    unit=unit-50\n",
    "    if(unit<=100):\n",
    "        price=price+(unit*0.75)\n",
    "        unit=unit-100\n",
    "    elif(unit<=100):\n",
    "        price=price+(unit*1.2)\n",
    "        unit=unit-100\n",
    "    elif(unit>0):\n",
    "        price=price+(unit*1.5)\n",
    "        price=price+(0.2*price)\n",
    "elif(unit<=50):\n",
    "    price=unit*0.5\n",
    "else:\n",
    "    print(\"Not valid unit\")\n",
    "    \n",
    "print(\"Your bill is: \",price)"
   ]
  },
  {
   "cell_type": "code",
   "execution_count": 23,
   "id": "0a4a957d",
   "metadata": {},
   "outputs": [
    {
     "name": "stdout",
     "output_type": "stream",
     "text": [
      "\n",
      "......day 10, task1.......\n",
      "\n",
      "Enter a number: 432\n",
      "Not palindrome  234\n"
     ]
    }
   ],
   "source": [
    "#day 10,task1\n",
    "\n",
    "print(\"\\n......day 10, task1.......\\n\")\n",
    "import math\n",
    "number=input(\"Enter a number: \")\n",
    "num=0\n",
    "number=int(number)\n",
    "x=number\n",
    "while(x!=0):\n",
    "    n=x%10\n",
    "    num=num*10+n\n",
    "    x=math.floor(x/10)\n",
    "    \n",
    "    \n",
    "if(num==number):\n",
    "    print(\"Palindrome\")\n",
    "    \n",
    "else:\n",
    "    print(\"Not palindrome \")"
   ]
  },
  {
   "cell_type": "code",
   "execution_count": 27,
   "id": "944f8ba9",
   "metadata": {},
   "outputs": [
    {
     "name": "stdout",
     "output_type": "stream",
     "text": [
      "\n",
      "......day 10, task2.......\n",
      "\n",
      "how many multiples: 5\n",
      "Multiples of 3: \n",
      "3\n",
      "6\n",
      "9\n",
      "12\n",
      "15\n",
      "Multiples of 5: \n",
      "5\n",
      "10\n",
      "15\n",
      "20\n",
      "25\n"
     ]
    }
   ],
   "source": [
    "#day 10,task2\n",
    "\n",
    "print(\"\\n......day 10, task2.......\\n\")\n",
    "\n",
    "a=input(\"how many multiples: \")\n",
    "a=int(a)\n",
    "print(\"Multiples of 3: \")\n",
    "for i in range(1,(a+1)):\n",
    "    print(3*i)\n",
    "print(\"Multiples of 5: \")\n",
    "for i in range(1,(a+1)):\n",
    "    print(5*i)"
   ]
  },
  {
   "cell_type": "code",
   "execution_count": 49,
   "id": "0f8dba47",
   "metadata": {},
   "outputs": [
    {
     "name": "stdout",
     "output_type": "stream",
     "text": [
      "\n",
      "......day 10, task3.......\n",
      "\n",
      "Enter a number: 1\n",
      "else\n",
      "else\n",
      "else\n",
      "The factorial is:  24\n"
     ]
    }
   ],
   "source": [
    "#day 10,task3\n",
    "\n",
    "print(\"\\n......day 10, task3.......\\n\")\n",
    "\n",
    "n=int(input(\"Enter a number: \"))\n",
    "p=1\n",
    "for i in range(2,n+1):\n",
    "    p=p*i\n",
    "print(\"Factorial: \",p)"
   ]
  },
  {
   "cell_type": "code",
   "execution_count": 50,
   "id": "ae1a7c51",
   "metadata": {},
   "outputs": [
    {
     "name": "stdout",
     "output_type": "stream",
     "text": [
      "Enter a number: 5\n",
      "Factorial:  120\n"
     ]
    }
   ],
   "source": [
    "#day 10,task4\n",
    "\n",
    "print(\"\\n......day 10, task4.......\\n\")\n",
    "\n",
    "n=int(input(\"How many fibonacci no do you want: \"))\n",
    "a=0\n",
    "b=1\n",
    "print(\"Fibonacci series: \",a,b,end=', ',sep=', ')\n",
    "for i in range(2,n):\n",
    "    c=a+b\n",
    "    print(c,end=', ')\n",
    "    a=b\n",
    "    b=c"
   ]
  },
  {
   "cell_type": "code",
   "execution_count": 51,
   "id": "ce5d5ba4",
   "metadata": {},
   "outputs": [
    {
     "name": "stdout",
     "output_type": "stream",
     "text": [
      "\n",
      "......day 10, task5.......\n",
      "\n",
      "Enter a no: 6\n",
      "Not an Armstrong no\n"
     ]
    }
   ],
   "source": [
    "#day 10,task5\n",
    "\n",
    "print(\"\\n......day 10, task5.......\\n\")\n",
    "\n",
    "n=int(input(\"Enter a no: \"))\n",
    "m=n\n",
    "s=0\n",
    "while n:\n",
    "    a=n%10\n",
    "    s=s+a**3\n",
    "    n=n//10\n",
    "if s==m:\n",
    "    print(\"Armstrong no\")\n",
    "else:\n",
    "    print(\"Not an Armstrong no\")\n"
   ]
  },
  {
   "cell_type": "code",
   "execution_count": 1,
   "id": "d99abaf4",
   "metadata": {},
   "outputs": [
    {
     "name": "stdout",
     "output_type": "stream",
     "text": [
      "*\n",
      "**\n",
      "***\n",
      "****\n",
      "*****\n"
     ]
    }
   ],
   "source": [
    "#day 11\n",
    "i=1\n",
    "while i<=5:\n",
    "    s='*'*i\n",
    "    print(s)\n",
    "    i=i+1"
   ]
  },
  {
   "cell_type": "code",
   "execution_count": 2,
   "id": "68d21571",
   "metadata": {},
   "outputs": [
    {
     "name": "stdout",
     "output_type": "stream",
     "text": [
      "1\n",
      "22\n",
      "333\n",
      "4444\n",
      "55555\n"
     ]
    }
   ],
   "source": [
    "i=1\n",
    "while i<=5:\n",
    "    s=str(i)*i\n",
    "    print(s)\n",
    "    i=i+1"
   ]
  },
  {
   "cell_type": "code",
   "execution_count": 3,
   "id": "8743e793",
   "metadata": {},
   "outputs": [
    {
     "name": "stdout",
     "output_type": "stream",
     "text": [
      "1\n",
      "12\n",
      "123\n",
      "1234\n",
      "12345\n"
     ]
    }
   ],
   "source": [
    "for i in range(1,6):\n",
    "    for j in range(1,i+1):\n",
    "        print(j,end='')\n",
    "    print()"
   ]
  },
  {
   "cell_type": "code",
   "execution_count": 4,
   "id": "36b2c52d",
   "metadata": {},
   "outputs": [
    {
     "name": "stdout",
     "output_type": "stream",
     "text": [
      "2\n",
      "34\n",
      "456\n",
      "5678\n",
      "678910\n"
     ]
    }
   ],
   "source": [
    "for i in range(1,6):\n",
    "    for j in range(1,i+1):\n",
    "        print(j+i,end='')\n",
    "    print()"
   ]
  },
  {
   "cell_type": "code",
   "execution_count": 5,
   "id": "6dafe5d3",
   "metadata": {},
   "outputs": [
    {
     "name": "stdout",
     "output_type": "stream",
     "text": [
      "1\n",
      "01\n",
      "101\n",
      "0101\n",
      "10101\n"
     ]
    }
   ],
   "source": [
    "for i in range(1,6):\n",
    "    for j in range(1,i+1):\n",
    "        if (i+j)%2==0:\n",
    "            print(1,end='')\n",
    "        else:\n",
    "            print(0,end='')\n",
    "    print()"
   ]
  },
  {
   "cell_type": "code",
   "execution_count": 6,
   "id": "301a5378",
   "metadata": {},
   "outputs": [
    {
     "name": "stdout",
     "output_type": "stream",
     "text": [
      "1\n",
      "23\n",
      "456\n",
      "78910\n",
      "1112131415\n"
     ]
    }
   ],
   "source": [
    "n=0\n",
    "for i in range(1,6):\n",
    "    for j in range(1,i+1):\n",
    "        n=n+1\n",
    "        print(n,end='')\n",
    "    print()"
   ]
  },
  {
   "cell_type": "code",
   "execution_count": 7,
   "id": "0e3e5d88",
   "metadata": {},
   "outputs": [
    {
     "name": "stdout",
     "output_type": "stream",
     "text": [
      "\n",
      "5\n",
      "54\n",
      "543\n",
      "5432\n",
      "54321\n"
     ]
    }
   ],
   "source": [
    "for i in range(5,-1,-1):\n",
    "    for j in range(5,i,-1):\n",
    "        print(j,end='')\n",
    "    print()"
   ]
  },
  {
   "cell_type": "code",
   "execution_count": 8,
   "id": "2caf5efc",
   "metadata": {},
   "outputs": [
    {
     "name": "stdout",
     "output_type": "stream",
     "text": [
      "5\n",
      "44\n",
      "333\n",
      "2222\n",
      "11111\n"
     ]
    }
   ],
   "source": [
    "i=1\n",
    "n=5\n",
    "while i<=5:\n",
    "    s=str(n)*i\n",
    "    print(s)\n",
    "    i=i+1\n",
    "    n=n-1"
   ]
  },
  {
   "cell_type": "code",
   "execution_count": 9,
   "id": "67a39722",
   "metadata": {},
   "outputs": [
    {
     "name": "stdout",
     "output_type": "stream",
     "text": [
      "*****\n",
      "****\n",
      "***\n",
      "**\n",
      "*\n"
     ]
    }
   ],
   "source": [
    "i=5\n",
    "while i>=1:\n",
    "    s='*'*i\n",
    "    print(s)\n",
    "    i=i-1"
   ]
  },
  {
   "cell_type": "code",
   "execution_count": 10,
   "id": "70da218e",
   "metadata": {},
   "outputs": [
    {
     "name": "stdout",
     "output_type": "stream",
     "text": [
      "11111\n",
      "2222\n",
      "333\n",
      "22\n",
      "1\n"
     ]
    }
   ],
   "source": [
    "i=5\n",
    "n=1\n",
    "while i>=1:\n",
    "    s=str(n)*i\n",
    "    print(s)\n",
    "    if i<=5//2+1:\n",
    "        n=n-1\n",
    "    else:\n",
    "        n=n+1\n",
    "    i=i-1"
   ]
  },
  {
   "cell_type": "code",
   "execution_count": 11,
   "id": "85194f5c",
   "metadata": {},
   "outputs": [
    {
     "name": "stdout",
     "output_type": "stream",
     "text": [
      "12345\n",
      "1234\n",
      "123\n",
      "12\n",
      "1\n",
      "\n"
     ]
    }
   ],
   "source": [
    "for i in range(6,0,-1):\n",
    "    for j in range(1,i):\n",
    "        print(j,end='')\n",
    "    print()"
   ]
  },
  {
   "cell_type": "code",
   "execution_count": 12,
   "id": "b6ec288d",
   "metadata": {},
   "outputs": [
    {
     "name": "stdout",
     "output_type": "stream",
     "text": [
      "55555\n",
      "4444\n",
      "333\n",
      "22\n",
      "1\n"
     ]
    }
   ],
   "source": [
    "i=5\n",
    "n=5\n",
    "while i>=1:\n",
    "    s=str(n)*i\n",
    "    print(s)\n",
    "    i=i-1\n",
    "    n=n-1"
   ]
  },
  {
   "cell_type": "code",
   "execution_count": 13,
   "id": "88674448",
   "metadata": {},
   "outputs": [
    {
     "name": "stdout",
     "output_type": "stream",
     "text": [
      "54321\n",
      "5432\n",
      "543\n",
      "54\n",
      "5\n"
     ]
    }
   ],
   "source": [
    "for i in range(0,5):\n",
    "    for j in range(5,i,-1):\n",
    "        print(j,end='')\n",
    "    print()"
   ]
  },
  {
   "cell_type": "code",
   "execution_count": 14,
   "id": "fd060c23",
   "metadata": {},
   "outputs": [
    {
     "name": "stdout",
     "output_type": "stream",
     "text": [
      "    *     \n",
      "   * *    \n",
      "  * * *   \n",
      " * * * *  \n",
      "* * * * * \n"
     ]
    }
   ],
   "source": [
    "i=1\n",
    "while i<=5:\n",
    "    s='* '*i\n",
    "    print(s.center(10))\n",
    "    i=i+1"
   ]
  },
  {
   "cell_type": "code",
   "execution_count": 15,
   "id": "24d955a1",
   "metadata": {},
   "outputs": [
    {
     "name": "stdout",
     "output_type": "stream",
     "text": [
      "    1     \n",
      "   1 2    \n",
      "  1 2 3   \n",
      " 1 2 3 4  \n",
      "1 2 3 4 5 \n"
     ]
    }
   ],
   "source": [
    "for i in range(1,6):\n",
    "    s=''\n",
    "    for j in range(1,i+1):\n",
    "        s=s+str(j)+' '\n",
    "    print(s.center(10))"
   ]
  },
  {
   "cell_type": "code",
   "execution_count": 16,
   "id": "27fd1f54",
   "metadata": {},
   "outputs": [
    {
     "name": "stdout",
     "output_type": "stream",
     "text": [
      "    *\n",
      "   **\n",
      "  ***\n",
      " ****\n",
      "*****\n"
     ]
    }
   ],
   "source": [
    "i=1\n",
    "while i<=5:\n",
    "    s='*'*i\n",
    "    print(s.rjust(5))\n",
    "    i=i+1"
   ]
  },
  {
   "cell_type": "code",
   "execution_count": 17,
   "id": "a0a392c0",
   "metadata": {},
   "outputs": [
    {
     "name": "stdout",
     "output_type": "stream",
     "text": [
      "    1\n",
      "   12\n",
      "  123\n",
      " 1234\n",
      "12345\n"
     ]
    }
   ],
   "source": [
    "for i in range(1,6):\n",
    "    s=''\n",
    "    for j in range(1,i+1):\n",
    "        s=s+str(j)\n",
    "    print(s.rjust(5))"
   ]
  },
  {
   "cell_type": "code",
   "execution_count": 18,
   "id": "5d1f1424",
   "metadata": {},
   "outputs": [
    {
     "name": "stdout",
     "output_type": "stream",
     "text": [
      "    *     \n",
      "   ***    \n",
      "  *****   \n",
      " *******  \n",
      "********* \n"
     ]
    }
   ],
   "source": [
    "for i in range(1,6):\n",
    "    s=''\n",
    "    for j in range(1,2*i):\n",
    "        s=s+'*'\n",
    "    print(s.center(10))"
   ]
  },
  {
   "cell_type": "code",
   "execution_count": 19,
   "id": "966ca95f",
   "metadata": {},
   "outputs": [
    {
     "name": "stdout",
     "output_type": "stream",
     "text": [
      "    1     \n",
      "   222    \n",
      "  33333   \n",
      " 4444444  \n",
      "555555555 \n"
     ]
    }
   ],
   "source": [
    "n=1\n",
    "for i in range(1,6):\n",
    "    s=''\n",
    "    for j in range(1,2*i):\n",
    "        s=s+str(n)\n",
    "    print(s.center(10))\n",
    "    n=n+1"
   ]
  },
  {
   "cell_type": "code",
   "execution_count": 20,
   "id": "b41e76e3",
   "metadata": {},
   "outputs": [
    {
     "name": "stdout",
     "output_type": "stream",
     "text": [
      "    1     \n",
      "   123    \n",
      "  12345   \n",
      " 1234567  \n",
      "123456789 \n"
     ]
    }
   ],
   "source": [
    "for i in range(1,6):\n",
    "    s=''\n",
    "    for j in range(1,2*i):\n",
    "        s=s+str(j)\n",
    "    print(s.center(10))"
   ]
  },
  {
   "cell_type": "code",
   "execution_count": 21,
   "id": "d206c350",
   "metadata": {},
   "outputs": [
    {
     "name": "stdout",
     "output_type": "stream",
     "text": [
      "         *          \n",
      "       * * *        \n",
      "     * * * * *      \n",
      "   * * * * * * *    \n",
      " * * * * * * * * *  \n"
     ]
    }
   ],
   "source": [
    "for i in range(1,6):\n",
    "    s=''\n",
    "    for j in range(1,2*i):\n",
    "        s=s+'* '\n",
    "    print(s.center(20))"
   ]
  },
  {
   "cell_type": "code",
   "execution_count": 22,
   "id": "6beae14a",
   "metadata": {},
   "outputs": [
    {
     "name": "stdout",
     "output_type": "stream",
     "text": [
      "    1     \n",
      "   232    \n",
      "  34543   \n",
      " 4567654  \n",
      "567898765 \n"
     ]
    }
   ],
   "source": [
    "n=0\n",
    "for i in range(1,6):\n",
    "    st=''\n",
    "    for j in range(1,2*i):\n",
    "        if j<=i:\n",
    "            n=n+1\n",
    "        else:\n",
    "            n=n-1\n",
    "        st=st+str(n)\n",
    "    print(st.center(10))"
   ]
  },
  {
   "cell_type": "code",
   "execution_count": 23,
   "id": "549f3aa6",
   "metadata": {},
   "outputs": [
    {
     "name": "stdout",
     "output_type": "stream",
     "text": [
      "    5     \n",
      "   545    \n",
      "  54345   \n",
      " 5432345  \n",
      "543212345 \n"
     ]
    }
   ],
   "source": [
    "for i in range(1,6):\n",
    "    st=''\n",
    "    n=6\n",
    "    for j in range(1,2*i):\n",
    "        if j<=i:\n",
    "            n=n-1\n",
    "        else:\n",
    "            n=n+1\n",
    "        st=st+str(n)\n",
    "    print(st.center(10))"
   ]
  },
  {
   "cell_type": "code",
   "execution_count": 24,
   "id": "4515760a",
   "metadata": {},
   "outputs": [
    {
     "name": "stdout",
     "output_type": "stream",
     "text": [
      "********* \n",
      " *******  \n",
      "  *****   \n",
      "   ***    \n",
      "    *     \n"
     ]
    }
   ],
   "source": [
    "for i in range(5,0,-1):\n",
    "    s=''\n",
    "    for j in range(1,2*i):\n",
    "        s=s+'*'\n",
    "    print(s.center(10))"
   ]
  },
  {
   "cell_type": "code",
   "execution_count": 25,
   "id": "081c092a",
   "metadata": {},
   "outputs": [
    {
     "name": "stdout",
     "output_type": "stream",
     "text": [
      "555555555 \n",
      " 4444444  \n",
      "  33333   \n",
      "   222    \n",
      "    1     \n"
     ]
    }
   ],
   "source": [
    "n=5\n",
    "for i in range(5,0,-1):\n",
    "    s=''\n",
    "    for j in range(1,2*i):\n",
    "        s=s+str(n)\n",
    "    print(s.center(10))\n",
    "    n=n-1"
   ]
  },
  {
   "cell_type": "code",
   "execution_count": 26,
   "id": "50b5f77d",
   "metadata": {},
   "outputs": [
    {
     "name": "stdout",
     "output_type": "stream",
     "text": [
      "123456789 \n",
      " 1234567  \n",
      "  12345   \n",
      "   123    \n",
      "    1     \n"
     ]
    }
   ],
   "source": [
    "for i in range(5,0,-1):\n",
    "    s=''\n",
    "    for j in range(1,2*i):\n",
    "        s=s+str(j)\n",
    "    print(s.center(10))"
   ]
  },
  {
   "cell_type": "code",
   "execution_count": 27,
   "id": "4ec8ef8d",
   "metadata": {},
   "outputs": [
    {
     "name": "stdout",
     "output_type": "stream",
     "text": [
      "567898765 \n",
      " 4567654  \n",
      "  34543   \n",
      "   232    \n",
      "    1     \n"
     ]
    }
   ],
   "source": [
    "for i in range(5,0,-1):\n",
    "    st=''\n",
    "    n=i-1\n",
    "    for j in range(1,2*i):\n",
    "        if j<=i:\n",
    "            n=n+1\n",
    "        else:\n",
    "            n=n-1\n",
    "        st=st+str(n)\n",
    "    print(st.center(10))"
   ]
  },
  {
   "cell_type": "code",
   "execution_count": 28,
   "id": "1815b7d3",
   "metadata": {},
   "outputs": [
    {
     "name": "stdout",
     "output_type": "stream",
     "text": [
      "543212345 \n",
      " 5432345  \n",
      "  54345   \n",
      "   545    \n",
      "    5     \n"
     ]
    }
   ],
   "source": [
    "for i in range(5,0,-1):\n",
    "    st=''\n",
    "    n=6\n",
    "    for j in range(1,2*i):\n",
    "        if j<=i:\n",
    "            n=n-1\n",
    "        else:\n",
    "            n=n+1\n",
    "        st=st+str(n)\n",
    "    print(st.center(10))"
   ]
  },
  {
   "cell_type": "code",
   "execution_count": 29,
   "id": "053692d2",
   "metadata": {},
   "outputs": [
    {
     "name": "stdout",
     "output_type": "stream",
     "text": [
      "    *     \n",
      "   ***    \n",
      "  *****   \n",
      " *******  \n",
      "********* \n",
      " *******  \n",
      "  *****   \n",
      "   ***    \n",
      "    *     \n"
     ]
    }
   ],
   "source": [
    "for i in range(1,6):\n",
    "    s=''\n",
    "    for j in range(1,2*i):\n",
    "        s=s+'*'\n",
    "    print(s.center(10))\n",
    "for i in range(4,0,-1):\n",
    "    s=''\n",
    "    for j in range(1,2*i):\n",
    "        s=s+'*'\n",
    "    print(s.center(10))"
   ]
  },
  {
   "cell_type": "code",
   "execution_count": 30,
   "id": "5b1a2ea3",
   "metadata": {},
   "outputs": [
    {
     "name": "stdout",
     "output_type": "stream",
     "text": [
      "    1     \n",
      "   222    \n",
      "  33333   \n",
      " 4444444  \n",
      "555555555 \n",
      " 4444444  \n",
      "  33333   \n",
      "   222    \n",
      "    1     \n"
     ]
    }
   ],
   "source": [
    "n=1\n",
    "for i in range(1,6):\n",
    "    s=''\n",
    "    for j in range(1,2*i):\n",
    "        s=s+str(n)\n",
    "    print(s.center(10))\n",
    "    n=n+1\n",
    "n=4\n",
    "for i in range(4,0,-1):\n",
    "    s=''\n",
    "    for j in range(1,2*i):\n",
    "        s=s+str(n)\n",
    "    print(s.center(10))\n",
    "    n=n-1"
   ]
  },
  {
   "cell_type": "code",
   "execution_count": 31,
   "id": "45447391",
   "metadata": {},
   "outputs": [
    {
     "name": "stdout",
     "output_type": "stream",
     "text": [
      "    1     \n",
      "   123    \n",
      "  12345   \n",
      " 1234567  \n",
      "123456789 \n",
      " 1234567  \n",
      "  12345   \n",
      "   123    \n",
      "    1     \n"
     ]
    }
   ],
   "source": [
    "for i in range(1,6):\n",
    "    s=''\n",
    "    for j in range(1,2*i):\n",
    "        s=s+str(j)\n",
    "    print(s.center(10))\n",
    "for i in range(4,0,-1):\n",
    "    s=''\n",
    "    for j in range(1,2*i):\n",
    "        s=s+str(j)\n",
    "    print(s.center(10))"
   ]
  },
  {
   "cell_type": "code",
   "execution_count": 32,
   "id": "9d23796e",
   "metadata": {},
   "outputs": [
    {
     "name": "stdout",
     "output_type": "stream",
     "text": [
      "    1     \n",
      "   232    \n",
      "  34543   \n",
      " 4567654  \n",
      "567898765 \n",
      " 4567654  \n",
      "  34543   \n",
      "   232    \n",
      "    1     \n"
     ]
    }
   ],
   "source": [
    "n=0\n",
    "for i in range(1,6):\n",
    "    st=''\n",
    "    for j in range(1,2*i):\n",
    "        if j<=i:\n",
    "            n=n+1\n",
    "        else:\n",
    "            n=n-1\n",
    "        st=st+str(n)\n",
    "    print(st.center(10))\n",
    "for i in range(4,0,-1):\n",
    "    st=''\n",
    "    n=i-1\n",
    "    for j in range(1,2*i):\n",
    "        if j<=i:\n",
    "            n=n+1\n",
    "        else:\n",
    "            n=n-1\n",
    "        st=st+str(n)\n",
    "    print(st.center(10))"
   ]
  },
  {
   "cell_type": "code",
   "execution_count": 33,
   "id": "3c1a175e",
   "metadata": {},
   "outputs": [
    {
     "name": "stdout",
     "output_type": "stream",
     "text": [
      "    5     \n",
      "   545    \n",
      "  54345   \n",
      " 5432345  \n",
      "543212345 \n",
      " 5432345  \n",
      "  54345   \n",
      "   545    \n",
      "    5     \n"
     ]
    }
   ],
   "source": [
    "for i in range(1,6):\n",
    "    st=''\n",
    "    n=6\n",
    "    for j in range(1,2*i):\n",
    "        if j<=i:\n",
    "            n=n-1\n",
    "        else:\n",
    "            n=n+1\n",
    "        st=st+str(n)\n",
    "    print(st.center(10))\n",
    "for i in range(4,0,-1):\n",
    "    st=''\n",
    "    n=6\n",
    "    for j in range(1,2*i):\n",
    "        if j<=i:\n",
    "            n=n-1\n",
    "        else:\n",
    "            n=n+1\n",
    "        st=st+str(n)\n",
    "    print(st.center(10))"
   ]
  },
  {
   "cell_type": "code",
   "execution_count": 34,
   "id": "1fdd4915",
   "metadata": {},
   "outputs": [
    {
     "name": "stdout",
     "output_type": "stream",
     "text": [
      "*******\n",
      "*******\n",
      "*******\n",
      "*******\n",
      "*******\n",
      "*******\n",
      "*******\n"
     ]
    }
   ],
   "source": [
    "for i in range(1,8):\n",
    "    for j in range(1,8):\n",
    "        print('*',end='')\n",
    "    print()"
   ]
  },
  {
   "cell_type": "code",
   "execution_count": 35,
   "id": "4a301216",
   "metadata": {},
   "outputs": [
    {
     "name": "stdout",
     "output_type": "stream",
     "text": [
      "*******\n",
      "*     *\n",
      "*     *\n",
      "*     *\n",
      "*     *\n",
      "*     *\n",
      "*******\n"
     ]
    }
   ],
   "source": [
    "for i in range(1,8):\n",
    "    for j in range(1,8):\n",
    "        if i in (1,7):\n",
    "            print('*',end='')\n",
    "        elif j in (1,7):\n",
    "            print('*',end='')\n",
    "        else:\n",
    "            print(' ',end='')\n",
    "    print()"
   ]
  },
  {
   "cell_type": "code",
   "execution_count": 36,
   "id": "f767b330",
   "metadata": {},
   "outputs": [
    {
     "name": "stdout",
     "output_type": "stream",
     "text": [
      "\\*****/\n",
      "*\\***/*\n",
      "**\\*/**\n",
      "***\\***\n",
      "**/*\\**\n",
      "*/***\\*\n",
      "/*****\\\n"
     ]
    }
   ],
   "source": [
    "for i in range(1,8):\n",
    "    for j in range(1,8):\n",
    "        if i==j:\n",
    "            print('\\\\',end='')\n",
    "        elif i+j==8:\n",
    "            print('/',end='')\n",
    "        else:\n",
    "            print('*',end='')\n",
    "    print()"
   ]
  },
  {
   "cell_type": "code",
   "execution_count": 37,
   "id": "8399d564",
   "metadata": {},
   "outputs": [
    {
     "name": "stdout",
     "output_type": "stream",
     "text": [
      "Enter no of rows: 11\n",
      "Enter no of columns: 11\n",
      "----.|.----\n",
      "-.|..|..|.-\n",
      ".|..|..|..|..|.\n",
      ".|..|..|..|..|..|..|.\n",
      ".|..|..|..|..|..|..|..|..|.\n",
      "--WELCOME--\n",
      ".|..|..|..|..|..|..|..|..|.\n",
      ".|..|..|..|..|..|..|.\n",
      ".|..|..|..|..|.\n",
      "-.|..|..|.-\n",
      "----.|.----\n"
     ]
    }
   ],
   "source": [
    "r=int(input('Enter no of rows: '))\n",
    "c=int(input('Enter no of columns: '))\n",
    "for i in range(1,r//2+1):\n",
    "    s=''\n",
    "    for j in range(1,2*i):\n",
    "        s=s+'.|.'\n",
    "    print(s.center(c,'-'))\n",
    "print('WELCOME'.center(c,'-'))\n",
    "for i in range(r//2,0,-1):\n",
    "    s=''\n",
    "    for j in range(1,2*i):\n",
    "        s=s+'.|.'\n",
    "    print(s.center(c,'-'))"
   ]
  },
  {
   "cell_type": "code",
   "execution_count": 38,
   "id": "cffcb6f7",
   "metadata": {},
   "outputs": [
    {
     "name": "stdout",
     "output_type": "stream",
     "text": [
      "Enter size: 10\n",
      "------------------j------------------\n",
      "----------------j-i-j----------------\n",
      "--------------j-i-h-i-j--------------\n",
      "------------j-i-h-g-h-i-j------------\n",
      "----------j-i-h-g-f-g-h-i-j----------\n",
      "--------j-i-h-g-f-e-f-g-h-i-j--------\n",
      "------j-i-h-g-f-e-d-e-f-g-h-i-j------\n",
      "----j-i-h-g-f-e-d-c-d-e-f-g-h-i-j----\n",
      "--j-i-h-g-f-e-d-c-b-c-d-e-f-g-h-i-j--\n",
      "j-i-h-g-f-e-d-c-b-a-b-c-d-e-f-g-h-i-j\n",
      "--j-i-h-g-f-e-d-c-b-c-d-e-f-g-h-i-j--\n",
      "----j-i-h-g-f-e-d-c-d-e-f-g-h-i-j----\n",
      "------j-i-h-g-f-e-d-e-f-g-h-i-j------\n",
      "--------j-i-h-g-f-e-f-g-h-i-j--------\n",
      "----------j-i-h-g-f-g-h-i-j----------\n",
      "------------j-i-h-g-h-i-j------------\n",
      "--------------j-i-h-i-j--------------\n",
      "----------------j-i-j----------------\n",
      "------------------j------------------\n"
     ]
    }
   ],
   "source": [
    "s=int(input('Enter size: '))\n",
    "for i in range(1,s+1):\n",
    "    l=[]\n",
    "    n=97+s\n",
    "    for j in range(1,2*i):\n",
    "        if j<=i:\n",
    "            n=n-1\n",
    "        else:\n",
    "            n=n+1\n",
    "        l.append(chr(n))\n",
    "    st='-'.join(l)\n",
    "    print(st.center(37,'-'))\n",
    "for i in range(s-1,0,-1):\n",
    "    l=[]\n",
    "    n=97+s\n",
    "    for j in range(1,2*i):\n",
    "        if j<=i:\n",
    "            n=n-1\n",
    "        else:\n",
    "            n=n+1\n",
    "        l.append(chr(n))\n",
    "    st='-'.join(l)\n",
    "    print(st.center(37,'-'))"
   ]
  },
  {
   "cell_type": "code",
   "execution_count": 39,
   "id": "aee60f91",
   "metadata": {},
   "outputs": [
    {
     "name": "stdout",
     "output_type": "stream",
     "text": [
      "Enter your choice: 5\n",
      "Hint: think a high number!\n",
      "Guesses left: 4\n",
      "Enter your choice: 6\n",
      "Hint: think a high number!\n",
      "Guesses left: 3\n",
      "Enter your choice: 8\n",
      "Hint: think a high number!\n",
      "Guesses left: 2\n",
      "Enter your choice: 9\n",
      "Hint: think a high number!\n",
      "Guesses left: 1\n",
      "Enter your choice: 1\n",
      "Hint: think a high number!\n",
      "Guesses left: 0\n",
      "Correct answrer:  14\n",
      "Better luck next time\n"
     ]
    }
   ],
   "source": [
    "#Day 12\n",
    "\n",
    "# 1. Write a code to implement Guess Game.\n",
    "i=5\n",
    "c=0\n",
    "import random\n",
    "n=random.randint(1,50)\n",
    "while i:\n",
    "    ch=int(input('Enter your choice: '))\n",
    "    if ch>50 or ch<1:\n",
    "        continue\n",
    "    if ch==n:\n",
    "        print('Correct answrer: ',n)\n",
    "        print('Congrats! you guessed right')\n",
    "        c=1\n",
    "        break\n",
    "    elif ch>n:\n",
    "        print('Hint: think a low number!')\n",
    "    elif ch<n:\n",
    "        print('Hint: think a high number!')\n",
    "    i=i-1\n",
    "    print(f'Guesses left: {i}')\n",
    "\n",
    "if c==0:\n",
    "    print('Correct answrer: ',n)\n",
    "    print('Better luck next time')"
   ]
  },
  {
   "cell_type": "code",
   "execution_count": 40,
   "id": "63dfd1c6",
   "metadata": {},
   "outputs": [
    {
     "name": "stdout",
     "output_type": "stream",
     "text": [
      "5\n",
      "3\n",
      "4\n",
      "4\n",
      "[[0, 0, 0], [0, 0, 1], [0, 0, 2], [0, 0, 3], [0, 1, 0], [0, 1, 1], [0, 1, 2], [0, 1, 4], [0, 2, 0], [0, 2, 1], [0, 2, 3], [0, 2, 4], [0, 3, 0], [0, 3, 2], [0, 3, 3], [0, 3, 4], [1, 0, 0], [1, 0, 1], [1, 0, 2], [1, 0, 4], [1, 1, 0], [1, 1, 1], [1, 1, 3], [1, 1, 4], [1, 2, 0], [1, 2, 2], [1, 2, 3], [1, 2, 4], [1, 3, 1], [1, 3, 2], [1, 3, 3], [1, 3, 4], [2, 0, 0], [2, 0, 1], [2, 0, 3], [2, 0, 4], [2, 1, 0], [2, 1, 2], [2, 1, 3], [2, 1, 4], [2, 2, 1], [2, 2, 2], [2, 2, 3], [2, 2, 4], [2, 3, 0], [2, 3, 1], [2, 3, 2], [2, 3, 3], [2, 3, 4], [3, 0, 0], [3, 0, 2], [3, 0, 3], [3, 0, 4], [3, 1, 1], [3, 1, 2], [3, 1, 3], [3, 1, 4], [3, 2, 0], [3, 2, 1], [3, 2, 2], [3, 2, 3], [3, 2, 4], [3, 3, 0], [3, 3, 1], [3, 3, 2], [3, 3, 3], [3, 3, 4], [4, 0, 1], [4, 0, 2], [4, 0, 3], [4, 0, 4], [4, 1, 0], [4, 1, 1], [4, 1, 2], [4, 1, 3], [4, 1, 4], [4, 2, 0], [4, 2, 1], [4, 2, 2], [4, 2, 3], [4, 2, 4], [4, 3, 0], [4, 3, 1], [4, 3, 2], [4, 3, 3], [4, 3, 4], [5, 0, 0], [5, 0, 1], [5, 0, 2], [5, 0, 3], [5, 0, 4], [5, 1, 0], [5, 1, 1], [5, 1, 2], [5, 1, 3], [5, 1, 4], [5, 2, 0], [5, 2, 1], [5, 2, 2], [5, 2, 3], [5, 2, 4], [5, 3, 0], [5, 3, 1], [5, 3, 2], [5, 3, 3], [5, 3, 4]]\n"
     ]
    }
   ],
   "source": [
    "# 2\n",
    "if __name__ == '__main__':\n",
    "    x = int(input())\n",
    "    y = int(input())\n",
    "    z = int(input())\n",
    "    n = int(input())\n",
    "    out=[]\n",
    "    for i in range(x + 1): \n",
    "        for j in range(y + 1): \n",
    "            for m in range(z + 1): \n",
    "                if ((i + j + m) != n):\n",
    "                    out.append([i,j,m])\n",
    "                    \n",
    "    print(out)\n",
    "    "
   ]
  },
  {
   "cell_type": "code",
   "execution_count": 41,
   "id": "bde4d904",
   "metadata": {},
   "outputs": [
    {
     "name": "stdout",
     "output_type": "stream",
     "text": [
      "5\n",
      "6\n",
      "7\n",
      "4\n",
      "4\n",
      "5\n"
     ]
    }
   ],
   "source": [
    "# 3\n",
    "if __name__ == '__main__':\n",
    "    N = int(input())\n",
    "    ls = list()\n",
    "    while N>0:\n",
    "        N -=1\n",
    "        command = input().split()\n",
    "        if command[0] == \"insert\":\n",
    "            ls.insert(int(command[1]),int(command[2]))\n",
    "        elif command[0] == \"remove\":\n",
    "            ls.remove(int(command[1]))\n",
    "        elif command[0] == \"print\":\n",
    "            print(ls)\n",
    "        elif command[0] == \"sort\":\n",
    "            ls.sort()\n",
    "        elif command[0] == \"append\":\n",
    "            ls.append(int(command[1]))\n",
    "        elif command[0] == \"pop\":\n",
    "            ls.pop()\n",
    "        elif command[0] ==\"reverse\":\n",
    "            ls = ls[::-1]\n",
    "        else:\n",
    "            pass"
   ]
  },
  {
   "cell_type": "markdown",
   "id": "4b582f71",
   "metadata": {},
   "source": []
  },
  {
   "cell_type": "code",
   "execution_count": 43,
   "id": "a4d5be2d",
   "metadata": {},
   "outputs": [
    {
     "name": "stdout",
     "output_type": "stream",
     "text": [
      "Array before sorting:  [8, 6, 5, 7]\n",
      "Array after sorting:  [5, 6, 7, 8]\n"
     ]
    }
   ],
   "source": [
    "# 5. selection sort\n",
    "arr=[8,6,5,7]\n",
    "print('Array before sorting: ',arr)\n",
    "for i in range(0,len(arr)-1):\n",
    "    for j in range(i+1,len(arr)):\n",
    "        if arr[i]>arr[j]:\n",
    "            temp=arr[i]\n",
    "            arr[i]=arr[j]\n",
    "            arr[j]=temp\n",
    "print('Array after sorting: ',arr)"
   ]
  },
  {
   "cell_type": "code",
   "execution_count": 44,
   "id": "5f57bce8",
   "metadata": {},
   "outputs": [
    {
     "name": "stdout",
     "output_type": "stream",
     "text": [
      "Array before sorting:  [8, 6, 5, 7]\n",
      "Array after sorting:  [5, 6, 7, 8]\n"
     ]
    }
   ],
   "source": [
    "# 5. bubble sort\n",
    "arr=[8,6,5,7]\n",
    "print('Array before sorting: ',arr)\n",
    "for i in range(0,len(arr)):\n",
    "    for j in range(0,len(arr)-1-i):\n",
    "        if arr[j]>arr[j+1]:\n",
    "            temp=arr[j]\n",
    "            arr[j]=arr[j+1]\n",
    "            arr[j+1]=temp\n",
    "print('Array after sorting: ',arr)"
   ]
  },
  {
   "cell_type": "code",
   "execution_count": 45,
   "id": "2c6aabeb",
   "metadata": {},
   "outputs": [
    {
     "name": "stdout",
     "output_type": "stream",
     "text": [
      "Array before sorting:  [8, 6, 5, 7]\n",
      "Array after sorting:  [5, 6, 7, 8]\n"
     ]
    }
   ],
   "source": [
    "## 5. insertion sort\n",
    "arr=[8,6,5,7]\n",
    "print('Array before sorting: ',arr)\n",
    "for i in range(1,len(arr)):\n",
    "    k=arr[i]\n",
    "    j=i-1\n",
    "    while j>=0 and k<arr[j]:\n",
    "        arr[j+1]=arr[j]\n",
    "        j-=1\n",
    "    arr[j+1]=k\n",
    "print('Array after sorting: ',arr)"
   ]
  },
  {
   "cell_type": "code",
   "execution_count": 46,
   "id": "aeb4f62b",
   "metadata": {},
   "outputs": [
    {
     "name": "stdout",
     "output_type": "stream",
     "text": [
      "Enter a string: ritos\n",
      "No of a:  0  e:  0  i:  1  o:  1  u:  0\n"
     ]
    }
   ],
   "source": [
    "Day 13\n",
    "# 1. Write a Python Code to count the Number of Each Vowel in a given string\n",
    "s=input('Enter a string: ')\n",
    "a=e=c=o=u=0\n",
    "for i in s:\n",
    "    if i in 'aA':\n",
    "        a+=1\n",
    "    elif i in 'eE':\n",
    "        e+=1\n",
    "    elif i in 'iI':\n",
    "        c+=1\n",
    "    elif i in 'oO':\n",
    "        o+=1\n",
    "    elif i in 'uU':\n",
    "        u+=1\n",
    "print('No of a: ',a,' e: ',e,' i: ',c,' o: ',o,' u: ',u)"
   ]
  },
  {
   "cell_type": "code",
   "execution_count": 47,
   "id": "3be06d89",
   "metadata": {},
   "outputs": [
    {
     "name": "stdout",
     "output_type": "stream",
     "text": [
      "Enter a string: bedesha\n",
      "No of words:  1  characters:  7  spaces:  0\n"
     ]
    }
   ],
   "source": [
    "# 2. Write a Python Code to count number of words, characters and number of spaces in a given stirng\n",
    "s=input('Enter a string: ')\n",
    "w=c=b=0\n",
    "l=s.split()\n",
    "for i in l: \n",
    "    w+=1\n",
    "for i in s:\n",
    "    if i==' ':\n",
    "        b+=1\n",
    "    else:\n",
    "        c+=1\n",
    "print('No of words: ',w,' characters: ',c,' spaces: ',b)"
   ]
  },
  {
   "cell_type": "code",
   "execution_count": 48,
   "id": "31e5cab9",
   "metadata": {},
   "outputs": [
    {
     "name": "stdout",
     "output_type": "stream",
     "text": [
      "Enter a string: ankita\n",
      "Og string:  ankita\n",
      "After removing punc:  ankita\n"
     ]
    }
   ],
   "source": [
    "# 3. Write a Python Program to remove punctuation from a given string (using loop)\n",
    "s=input('Enter a string: ')\n",
    "print('Og string: ',s)\n",
    "punc='''!()-[]}{;:'\"\\,<>./?@#$%^&*_~'''\n",
    "for i in s:\n",
    "    if i in punc:\n",
    "        s=s.replace(i,'')\n",
    "print('After removing punc: ',s)"
   ]
  },
  {
   "cell_type": "code",
   "execution_count": 49,
   "id": "69296aeb",
   "metadata": {},
   "outputs": [
    {
     "name": "stdout",
     "output_type": "stream",
     "text": [
      "Enter no of columns: 3\n",
      "Enter no of rows: 3\n",
      "Enter numbers for column  1\n",
      "3\n",
      "4\n",
      "5\n",
      "Enter numbers for column  2\n",
      "1\n",
      "3\n",
      "4\n",
      "Enter numbers for column  3\n",
      "6\n",
      "8\n",
      "9\n",
      "[[3, 4, 5], [1, 3, 4], [6, 8, 9]]\n"
     ]
    }
   ],
   "source": [
    "# 4. Write a Python Program to take a mxn matrix input from user and stored in nested list\n",
    "matrix=[]\n",
    "m=int(input('Enter no of columns: '))\n",
    "n=int(input('Enter no of rows: '))\n",
    "for i in range(0,n):\n",
    "    a=[]\n",
    "    print('Enter numbers for column ',i+1)\n",
    "    for j in range(0,m):\n",
    "        a.append(int(input()))\n",
    "    matrix.append(a)\n",
    "print(matrix)"
   ]
  },
  {
   "cell_type": "code",
   "execution_count": 50,
   "id": "f8974f32",
   "metadata": {},
   "outputs": [
    {
     "name": "stdout",
     "output_type": "stream",
     "text": [
      "[[2, 2, 2], [5, 5, 5], [6, 6, 6]]\n",
      "[[3, 3, 3], [4, 4, 4], [1, 1, 1]]\n",
      "[[5, 5, 5], [9, 9, 9], [7, 7, 7]]\n",
      "[[16, 16, 16], [40, 40, 40], [48, 48, 48]]\n",
      "[[2, 5, 6], [2, 5, 6], [2, 5, 6]]\n"
     ]
    }
   ],
   "source": [
    "# 5. Write a Python Program to add, multiply and transpose two matrices given by user \n",
    "m1=[[2,2,2],[5,5,5],[6,6,6]]\n",
    "m2=[[3,3,3],[4,4,4],[1,1,1]]\n",
    "print(m1)\n",
    "print(m2)\n",
    "\n",
    "def add(x,y):\n",
    "    sum=[]\n",
    "    for i in range(0,3):\n",
    "        a=[]\n",
    "        for j in range(0,3):\n",
    "            a.append(x[i][j]+y[i][j])\n",
    "        sum.append(a)\n",
    "    print(sum)\n",
    "\n",
    "add(m1,m2)\n",
    "\n",
    "def mul(x,y):\n",
    "    prod=[[0,0,0],[0,0,0],[0,0,0]]\n",
    "    for i in range(len(x)):\n",
    "        for j in range(len(y[0])):\n",
    "            for k in range(len(y)):\n",
    "                prod[i][j] += x[i][k] * y[k][j]\n",
    "    print(prod)\n",
    "\n",
    "mul(m1,m2)\n",
    "\n",
    "def transpose(x):\n",
    "    result=[[0,0,0],[0,0,0],[0,0,0]]\n",
    "    for i in range(len(x)):\n",
    "        for j in range(len(x[0])):\n",
    "            result[j][i] = x[i][j]\n",
    "    print(result)\n",
    "\n",
    "transpose(m1)\n"
   ]
  },
  {
   "cell_type": "code",
   "execution_count": 51,
   "id": "d233d37f",
   "metadata": {},
   "outputs": [
    {
     "name": "stdout",
     "output_type": "stream",
     "text": [
      "Enter a number: 69\n",
      "15\n",
      "6\n"
     ]
    }
   ],
   "source": [
    "#day 14\n",
    "# 1. Program to find the sum of digits of a number until the sum is reduced to 1 digit\n",
    "n=int(input('Enter a number: '))\n",
    "while n>10:\n",
    "    m=n\n",
    "    sum=0\n",
    "    while m:\n",
    "        a=m % 10\n",
    "        sum=sum + a\n",
    "        m=m // 10\n",
    "    n=sum\n",
    "    print(sum)"
   ]
  },
  {
   "cell_type": "code",
   "execution_count": 52,
   "id": "0a4ddd62",
   "metadata": {},
   "outputs": [
    {
     "name": "stdout",
     "output_type": "stream",
     "text": [
      "Enter the first number: 34\n",
      "Enter the second number: 56\n",
      "First Number is:  34\n",
      "Second Number is:  56\n",
      "The HCF is:  2\n",
      "LCM of the two numbers is:  952\n"
     ]
    }
   ],
   "source": [
    "# 2. Program to find LCM and HCF of two numbers\n",
    "a = int(input(\"Enter the first number: \"))\n",
    "b = int(input(\"Enter the second number: \"))\n",
    "HCF = 1\n",
    "for i in range(2,a+1):\n",
    "    if(a%i==0 and b%i==0):\n",
    "        HCF = i\n",
    " \n",
    "print(\"First Number is: \",a)\n",
    "print(\"Second Number is: \",b)\n",
    "print(\"The HCF is: \",HCF)\n",
    "LCM = int((a*b)/(HCF))\n",
    "print(\"LCM of the two numbers is: \",LCM)"
   ]
  },
  {
   "cell_type": "code",
   "execution_count": 53,
   "id": "ccae44c4",
   "metadata": {},
   "outputs": [
    {
     "name": "stdout",
     "output_type": "stream",
     "text": [
      "Enter a number: 34\n",
      "27\n",
      "216\n",
      "729\n",
      "1728\n",
      "3375\n",
      "5832\n",
      "9261\n",
      "13824\n",
      "19683\n",
      "27000\n",
      "35937\n"
     ]
    }
   ],
   "source": [
    "# 3. Write a program to accept any number n and print the cube of all numbers from 1 to n which are divisible by 3. Rewrite the program using a continue statement.\n",
    "\n",
    "n=int(input('Enter a number: '))\n",
    "for i in range(1,n):\n",
    "    if i%3==0:\n",
    "        print(i**3)"
   ]
  },
  {
   "cell_type": "code",
   "execution_count": 54,
   "id": "aa8da420",
   "metadata": {},
   "outputs": [
    {
     "name": "stdout",
     "output_type": "stream",
     "text": [
      "Enter a number: 24\n",
      "27\n",
      "216\n",
      "729\n",
      "1728\n",
      "3375\n",
      "5832\n",
      "9261\n"
     ]
    }
   ],
   "source": [
    "# 3. Write a program to accept any number n and print the cube of all numbers from 1 to n which are divisible by 3. Rewrite the program using a continue statement.\n",
    "\n",
    "n=int(input('Enter a number: '))\n",
    "for i in range(1,n):\n",
    "    if i%3!=0:\n",
    "        continue\n",
    "    else:\n",
    "        print(i**3)"
   ]
  },
  {
   "cell_type": "code",
   "execution_count": null,
   "id": "9f2b8e7e",
   "metadata": {},
   "outputs": [],
   "source": [
    "\n"
   ]
  },
  {
   "cell_type": "code",
   "execution_count": 57,
   "id": "f285c26b",
   "metadata": {},
   "outputs": [
    {
     "name": "stdout",
     "output_type": "stream",
     "text": [
      "Enter a number: 45\n",
      "No of digits:  2\n"
     ]
    }
   ],
   "source": [
    "# 5. Write a program to input a number and count the digits in it. Use while loop and the program should work correctly for 0 also\n",
    "n=int(input('Enter a number: '))\n",
    "s=0\n",
    "if n==0:\n",
    "    print('No of digits: ',1)\n",
    "else:\n",
    "    while n:\n",
    "        s+=1\n",
    "        n=n//10\n",
    "print('No of digits: ',s)"
   ]
  },
  {
   "cell_type": "code",
   "execution_count": 58,
   "id": "20bfeebc",
   "metadata": {},
   "outputs": [
    {
     "name": "stdout",
     "output_type": "stream",
     "text": [
      "Enter a no: 56\n",
      "The reversed no is:  65\n",
      "The double of reversed no:  130\n"
     ]
    }
   ],
   "source": [
    "# 6. Write a program to enter a number and find the reverse of that number. Also display the double of the reverse number. (don’t use string magic)\n",
    "n=int(input(\"Enter a no: \"))\n",
    "s=0\n",
    "while n:\n",
    "    a=n%10\n",
    "    s=s*10+a\n",
    "    n=n//10\n",
    "print('The reversed no is: ',s)\n",
    "print('The double of reversed no: ',2*s)"
   ]
  },
  {
   "cell_type": "code",
   "execution_count": null,
   "id": "0b827296",
   "metadata": {},
   "outputs": [],
   "source": []
  },
  {
   "cell_type": "code",
   "execution_count": null,
   "id": "bbc78555",
   "metadata": {},
   "outputs": [],
   "source": []
  }
 ],
 "metadata": {
  "kernelspec": {
   "display_name": "Python 3 (ipykernel)",
   "language": "python",
   "name": "python3"
  },
  "language_info": {
   "codemirror_mode": {
    "name": "ipython",
    "version": 3
   },
   "file_extension": ".py",
   "mimetype": "text/x-python",
   "name": "python",
   "nbconvert_exporter": "python",
   "pygments_lexer": "ipython3",
   "version": "3.10.9"
  }
 },
 "nbformat": 4,
 "nbformat_minor": 5
}
